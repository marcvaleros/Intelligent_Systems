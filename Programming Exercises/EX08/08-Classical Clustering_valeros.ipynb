{
 "cells": [
  {
   "cell_type": "markdown",
   "metadata": {},
   "source": [
    "# Clustering Activity"
   ]
  },
  {
   "cell_type": "code",
   "execution_count": 15,
   "metadata": {},
   "outputs": [],
   "source": [
    "# Import necessary libraries\n",
    "from sklearn.datasets import make_blobs\n",
    "from sklearn.cluster import KMeans, AgglomerativeClustering, SpectralClustering\n",
    "from sklearn.metrics import adjusted_rand_score\n",
    "import skfuzzy.cluster as fuzz\n",
    "import numpy as np\n",
    "import numpy as np\n",
    "\n",
    "# Generate a hypothetical dataset\n",
    "X, Y = make_blobs(n_samples=300, centers=4, random_state=42, cluster_std=1.0)"
   ]
  },
  {
   "cell_type": "code",
   "execution_count": 16,
   "metadata": {},
   "outputs": [],
   "source": [
    "from sklearn.metrics import adjusted_rand_score, silhouette_score\n",
    "\n",
    "#define the colors to be used in the plots\n",
    "colors = ['red', 'orange', 'lime', 'green', 'blue', 'navy', 'violet']\n",
    "fig_size = 6\n",
    "\n",
    "# Params of Data Generation\n",
    "samples = 300  # Number of samples per class\n",
    "cluster_count = 4     # Number of classes\n",
    "random_state = 42"
   ]
  },
  {
   "cell_type": "markdown",
   "metadata": {},
   "source": [
    "Exercise: Evaluate four clustering algorithms (K-Means, Fuzzy C-Means, Spectral, and Agglomerative)\n",
    "1. Apply each clustering algorithm to the dataset where:\n",
    "- cluster_count = 4\n",
    "- random_state = 42 (where applicable)\n",
    "- do not specify affinity, metric, algo, init, linkage (if applicable)\n",
    "2. Use the **Adjusted Rand index** and **Silhouette Score** to evaluate the clustering performance.\n",
    "3. Compare the performance of the algorithms based on the aforementioned metrics and decide which algorithm is best suited for the data given."
   ]
  },
  {
   "cell_type": "markdown",
   "metadata": {},
   "source": [
    "### Fuzzy C-Means"
   ]
  },
  {
   "cell_type": "code",
   "execution_count": 17,
   "metadata": {},
   "outputs": [],
   "source": [
    "from skfuzzy import cmeans, cmeans_predict\n",
    "\n",
    "centers, labels, _, _, _, _, _  = cmeans(\n",
    "    data=X.T,\n",
    "    c = cluster_count,\n",
    "    m = 1.25,\n",
    "    error = 0.075,\n",
    "    maxiter = 1000\n",
    ")\n",
    "target2 = np.argmax(labels, axis=0)\n",
    "fcm_ari = adjusted_rand_score(Y, target2)\n",
    "fcm_sil = silhouette_score(X, target2)"
   ]
  },
  {
   "cell_type": "markdown",
   "metadata": {},
   "source": [
    "### Spectral"
   ]
  },
  {
   "cell_type": "code",
   "execution_count": 18,
   "metadata": {},
   "outputs": [],
   "source": [
    "from sklearn.cluster import SpectralClustering\n",
    "\n",
    "labels = SpectralClustering(n_clusters=cluster_count, random_state=42).fit_predict(X)\n",
    "spectral_ari = adjusted_rand_score(Y, labels)\n",
    "spectral_sil = silhouette_score(X, labels)"
   ]
  },
  {
   "cell_type": "markdown",
   "metadata": {},
   "source": [
    "### K-Means"
   ]
  },
  {
   "cell_type": "code",
   "execution_count": 19,
   "metadata": {},
   "outputs": [
    {
     "name": "stderr",
     "output_type": "stream",
     "text": [
      "c:\\Users\\Marc\\AppData\\Local\\Programs\\Python\\Python311\\Lib\\site-packages\\sklearn\\cluster\\_kmeans.py:1412: FutureWarning: The default value of `n_init` will change from 10 to 'auto' in 1.4. Set the value of `n_init` explicitly to suppress the warning\n",
      "  super()._check_params_vs_input(X, default_n_init=10)\n"
     ]
    }
   ],
   "source": [
    "from sklearn.cluster import KMeans\n",
    "\n",
    "labels = KMeans(n_clusters=cluster_count, random_state=random_state).fit_predict(X)\n",
    "kmeans_ari = adjusted_rand_score(Y, labels)\n",
    "kmeans_sil = silhouette_score(X, labels)"
   ]
  },
  {
   "cell_type": "markdown",
   "metadata": {},
   "source": [
    "### Agglomerative"
   ]
  },
  {
   "cell_type": "code",
   "execution_count": 20,
   "metadata": {},
   "outputs": [],
   "source": [
    "from sklearn.cluster import AgglomerativeClustering\n",
    "from scipy.cluster.hierarchy import dendrogram\n",
    "\n",
    "labels = AgglomerativeClustering(n_clusters=cluster_count).fit_predict(X)\n",
    "agglomerative_ari = adjusted_rand_score(Y, labels)\n",
    "agglomerative_sil = silhouette_score(X, labels)"
   ]
  },
  {
   "cell_type": "code",
   "execution_count": null,
   "metadata": {},
   "outputs": [],
   "source": []
  },
  {
   "cell_type": "code",
   "execution_count": 26,
   "metadata": {},
   "outputs": [
    {
     "name": "stdout",
     "output_type": "stream",
     "text": [
      "Adjusted Rand Index:\n",
      "Fuzzy C-Means: 0.9910811504997546\n",
      "Silhouette Score:\n",
      "Fuzzy C-Means: 0.7915830011443039 \n",
      "\n",
      "Adjusted Rand Index:\n",
      "Spectral Clustering: 0.9910811504997546\n",
      "Silhouette Score:\n",
      "Spectral Clustering: 0.7915830011443039 \n",
      "\n",
      "Adjusted Rand Index:\n",
      "K-Means: 0.9910811504997546\n",
      "Silhouette Score:\n",
      "K-Means: 0.7915830011443039 \n",
      "\n",
      "Adjusted Rand Index:\n",
      "Agglomerative Clustering: 0.9910811504997546\n",
      "Silhouette Score:\n",
      "Agglomerative Clustering: 0.7915830011443039 \n",
      "\n"
     ]
    }
   ],
   "source": [
    "print(\"Adjusted Rand Index:\")\n",
    "print(f\"Fuzzy C-Means: {fcm_ari}\")\n",
    "print(\"Silhouette Score:\")\n",
    "print(f\"Fuzzy C-Means: {fcm_sil} \\n\")\n",
    "\n",
    "\n",
    "print(\"Adjusted Rand Index:\")\n",
    "print(f\"Spectral Clustering: {spectral_ari}\")\n",
    "print(\"Silhouette Score:\")\n",
    "print(f\"Spectral Clustering: {spectral_sil} \\n\")\n",
    "\n",
    "print(\"Adjusted Rand Index:\")\n",
    "print(f\"K-Means: {kmeans_ari}\")\n",
    "print(\"Silhouette Score:\")\n",
    "print(f\"K-Means: {kmeans_sil} \\n\")\n",
    "\n",
    "print(\"Adjusted Rand Index:\")\n",
    "print(f\"Agglomerative Clustering: {agglomerative_ari}\")\n",
    "print(\"Silhouette Score:\")\n",
    "print(f\"Agglomerative Clustering: {agglomerative_sil} \\n\")"
   ]
  },
  {
   "cell_type": "markdown",
   "metadata": {},
   "source": [
    "The Silhouette Score and Adjusted Rand Index yielded identical results for all algorithms, possibly indicating that specific parameters, such as affinity, metric, algo, init, and linkage, were not explicitly specified for some algorithms."
   ]
  }
 ],
 "metadata": {
  "kernelspec": {
   "display_name": "ven",
   "language": "python",
   "name": "python3"
  },
  "language_info": {
   "codemirror_mode": {
    "name": "ipython",
    "version": 3
   },
   "file_extension": ".py",
   "mimetype": "text/x-python",
   "name": "python",
   "nbconvert_exporter": "python",
   "pygments_lexer": "ipython3",
   "version": "3.11.1"
  }
 },
 "nbformat": 4,
 "nbformat_minor": 2
}
