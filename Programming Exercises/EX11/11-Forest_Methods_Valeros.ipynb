{
 "cells": [
  {
   "cell_type": "markdown",
   "id": "738eb923",
   "metadata": {
    "papermill": {
     "duration": 0.012365,
     "end_time": "2023-12-01T19:41:36.472074",
     "exception": false,
     "start_time": "2023-12-01T19:41:36.459709",
     "status": "completed"
    },
    "tags": []
   },
   "source": [
    "# Imports"
   ]
  },
  {
   "cell_type": "code",
   "execution_count": 30,
   "id": "526fc93c",
   "metadata": {
    "papermill": {
     "duration": 3.186123,
     "end_time": "2023-12-01T19:41:39.669875",
     "exception": false,
     "start_time": "2023-12-01T19:41:36.483752",
     "status": "completed"
    },
    "tags": []
   },
   "outputs": [],
   "source": [
    "import pandas as pd\n",
    "import numpy as np\n",
    "import pickle\n",
    "import seaborn as sns\n",
    "import matplotlib.pyplot as plt\n",
    "\n",
    "from sklearn.model_selection import train_test_split\n",
    "from sklearn.preprocessing import MinMaxScaler, StandardScaler\n",
    "from sklearn.linear_model import LogisticRegression\n",
    "from sklearn.metrics import confusion_matrix,accuracy_score,classification_report\n",
    "from sklearn.tree import DecisionTreeClassifier\n",
    "from sklearn.ensemble import RandomForestClassifier\n",
    "from sklearn.neighbors import KNeighborsClassifier\n",
    "\n",
    "import tensorflow as tf"
   ]
  },
  {
   "cell_type": "code",
   "execution_count": 2,
   "id": "a3172a1b",
   "metadata": {
    "papermill": {
     "duration": 0.045797,
     "end_time": "2023-12-01T19:41:39.727166",
     "exception": false,
     "start_time": "2023-12-01T19:41:39.681369",
     "status": "completed"
    },
    "tags": []
   },
   "outputs": [],
   "source": [
    "df = pd.read_csv(\"11-heart.csv\")"
   ]
  },
  {
   "cell_type": "markdown",
   "id": "d0726f7d",
   "metadata": {
    "papermill": {
     "duration": 0.017232,
     "end_time": "2023-12-01T19:41:45.148338",
     "exception": false,
     "start_time": "2023-12-01T19:41:45.131106",
     "status": "completed"
    },
    "tags": []
   },
   "source": [
    "# Splitting Data"
   ]
  },
  {
   "cell_type": "code",
   "execution_count": 15,
   "id": "d9e2a71b",
   "metadata": {
    "papermill": {
     "duration": 0.030207,
     "end_time": "2023-12-01T19:41:45.196158",
     "exception": false,
     "start_time": "2023-12-01T19:41:45.165951",
     "status": "completed"
    },
    "tags": []
   },
   "outputs": [],
   "source": [
    "X = df.drop('output',axis='columns')\n",
    "y= df['output']"
   ]
  },
  {
   "cell_type": "code",
   "execution_count": 16,
   "id": "6371e822",
   "metadata": {
    "papermill": {
     "duration": 0.030769,
     "end_time": "2023-12-01T19:41:45.244340",
     "exception": false,
     "start_time": "2023-12-01T19:41:45.213571",
     "status": "completed"
    },
    "tags": []
   },
   "outputs": [],
   "source": [
    "X_train,X_test,y_train,y_test = train_test_split(X,y,test_size=0.2,random_state=42)"
   ]
  },
  {
   "cell_type": "code",
   "execution_count": 17,
   "id": "b1f22a68",
   "metadata": {},
   "outputs": [],
   "source": [
    "# Normalization and Standardization\n",
    "\n",
    "scaler = MinMaxScaler()\n",
    "X_train_scaled = scaler.fit_transform(X_train)\n",
    "X_test_scaled = scaler.transform(X_test)\n",
    "\n",
    "scaler2 = StandardScaler()\n",
    "X_train_scaled2 = scaler2.fit_transform(X_train)\n",
    "X_test_scaled2 = scaler2.transform(X_test)"
   ]
  },
  {
   "cell_type": "markdown",
   "id": "42806a59",
   "metadata": {
    "papermill": {
     "duration": 0.08065,
     "end_time": "2023-12-01T19:41:45.342255",
     "exception": false,
     "start_time": "2023-12-01T19:41:45.261605",
     "status": "completed"
    },
    "tags": []
   },
   "source": [
    "**Decision Tree Classifier**"
   ]
  },
  {
   "cell_type": "code",
   "execution_count": 18,
   "id": "2db63c6c",
   "metadata": {
    "papermill": {
     "duration": 0.038036,
     "end_time": "2023-12-01T19:41:45.397712",
     "exception": false,
     "start_time": "2023-12-01T19:41:45.359676",
     "status": "completed"
    },
    "tags": []
   },
   "outputs": [
    {
     "name": "stdout",
     "output_type": "stream",
     "text": [
      "With normalization:\n",
      "Decision Tree Train Accuracy =  100.0 %\n",
      "Decision tree Test Accuracy =  78.69 %\n",
      "\n",
      "              precision    recall  f1-score   support\n",
      "\n",
      "           0     0.7353    0.8621    0.7937        29\n",
      "           1     0.8519    0.7188    0.7797        32\n",
      "\n",
      "    accuracy                         0.7869        61\n",
      "   macro avg     0.7936    0.7904    0.7867        61\n",
      "weighted avg     0.7964    0.7869    0.7863        61\n",
      "\n"
     ]
    }
   ],
   "source": [
    "DT = DecisionTreeClassifier()\n",
    "DT.fit(X_train_scaled,y_train)\n",
    "\n",
    "y_prediction = DT.predict(X_test_scaled)\n",
    "tree_train_acc = round(accuracy_score(y_train,DT.predict(X_train_scaled))*100,2)\n",
    "tree_test_acc = round(accuracy_score(y_test,y_prediction)*100,2)\n",
    "\n",
    "print(\"With normalization:\")\n",
    "print('Decision Tree Train Accuracy = ' , tree_train_acc,'%')\n",
    "print('Decision tree Test Accuracy = ' , tree_test_acc,'%')\n",
    "print()\n",
    "print(classification_report(y_test,DT.predict(X_test_scaled), digits= 4))"
   ]
  },
  {
   "cell_type": "code",
   "execution_count": 19,
   "id": "f6046740",
   "metadata": {
    "papermill": {
     "duration": 0.038565,
     "end_time": "2023-12-01T19:41:45.454394",
     "exception": false,
     "start_time": "2023-12-01T19:41:45.415829",
     "status": "completed"
    },
    "tags": []
   },
   "outputs": [
    {
     "name": "stdout",
     "output_type": "stream",
     "text": [
      "With standardization:\n",
      "Decision Tree Train Accuracy =  100.0 %\n",
      "Decision tree Test Accuracy =  77.05 %\n",
      "\n",
      "              precision    recall  f1-score   support\n",
      "\n",
      "           0     0.7143    0.8621    0.7813        29\n",
      "           1     0.8462    0.6875    0.7586        32\n",
      "\n",
      "    accuracy                         0.7705        61\n",
      "   macro avg     0.7802    0.7748    0.7699        61\n",
      "weighted avg     0.7835    0.7705    0.7694        61\n",
      "\n"
     ]
    }
   ],
   "source": [
    "DT2 = DecisionTreeClassifier()\n",
    "DT2.fit(X_train_scaled2,y_train)\n",
    "\n",
    "y_prediction2 = DT2.predict(X_test_scaled2)\n",
    "tree_train_acc2 = round(accuracy_score(y_train,DT2.predict(X_train_scaled2))*100,2)\n",
    "tree_test_acc2 = round(accuracy_score(y_test,y_prediction2)*100,2)\n",
    "\n",
    "print(\"With standardization:\")\n",
    "print('Decision Tree Train Accuracy = ' , tree_train_acc2,'%')\n",
    "print('Decision tree Test Accuracy = ' , tree_test_acc2,'%')\n",
    "print()\n",
    "print(classification_report(y_test,DT2.predict(X_test_scaled2), digits= 4))"
   ]
  },
  {
   "cell_type": "markdown",
   "id": "511c181b",
   "metadata": {},
   "source": [
    "**K-Nearest Neighbors Classifier**"
   ]
  },
  {
   "cell_type": "code",
   "execution_count": 20,
   "id": "433b7441",
   "metadata": {},
   "outputs": [
    {
     "name": "stdout",
     "output_type": "stream",
     "text": [
      "With normalization:\n",
      "KNN Train Accuracy =  84.65 %\n",
      "KNN Test Accuracy =  85.25 %\n",
      "\n",
      "              precision    recall  f1-score   support\n",
      "\n",
      "           0     0.7941    0.9310    0.8571        29\n",
      "           1     0.9259    0.7812    0.8475        32\n",
      "\n",
      "    accuracy                         0.8525        61\n",
      "   macro avg     0.8600    0.8561    0.8523        61\n",
      "weighted avg     0.8633    0.8525    0.8521        61\n",
      "\n"
     ]
    }
   ],
   "source": [
    "KNN = KNeighborsClassifier()\n",
    "KNN.fit(X_train_scaled,y_train)\n",
    "\n",
    "y_prediction = KNN.predict(X_test_scaled)\n",
    "tree_train_acc = round(accuracy_score(y_train,KNN.predict(X_train_scaled))*100,2)\n",
    "tree_test_acc = round(accuracy_score(y_test,y_prediction)*100,2)\n",
    "\n",
    "print(\"With normalization:\")\n",
    "print('KNN Train Accuracy = ' , tree_train_acc,'%')\n",
    "print('KNN Test Accuracy = ' , tree_test_acc,'%')\n",
    "print()\n",
    "print(classification_report(y_test,KNN.predict(X_test_scaled), digits= 4))\n"
   ]
  },
  {
   "cell_type": "code",
   "execution_count": 21,
   "id": "32a1e44a",
   "metadata": {},
   "outputs": [
    {
     "name": "stdout",
     "output_type": "stream",
     "text": [
      "With standardization:\n",
      "KNN Train Accuracy =  86.31 %\n",
      "KNN Test Accuracy =  91.8 %\n",
      "\n",
      "              precision    recall  f1-score   support\n",
      "\n",
      "           0     0.8750    0.9655    0.9180        29\n",
      "           1     0.9655    0.8750    0.9180        32\n",
      "\n",
      "    accuracy                         0.9180        61\n",
      "   macro avg     0.9203    0.9203    0.9180        61\n",
      "weighted avg     0.9225    0.9180    0.9180        61\n",
      "\n"
     ]
    }
   ],
   "source": [
    "KNN2 = KNeighborsClassifier()\n",
    "KNN2.fit(X_train_scaled2,y_train)\n",
    "\n",
    "y_prediction2 = KNN2.predict(X_test_scaled2)\n",
    "tree_train_acc2 = round(accuracy_score(y_train,KNN2.predict(X_train_scaled2))*100,2)\n",
    "tree_test_acc2 = round(accuracy_score(y_test,y_prediction2)*100,2)\n",
    "\n",
    "print(\"With standardization:\")\n",
    "print('KNN Train Accuracy = ' , tree_train_acc2,'%')\n",
    "print('KNN Test Accuracy = ' , tree_test_acc2,'%')\n",
    "print()\n",
    "print(classification_report(y_test,KNN2.predict(X_test_scaled2), digits= 4))"
   ]
  },
  {
   "cell_type": "markdown",
   "id": "9ed9f64d",
   "metadata": {
    "papermill": {
     "duration": 0.019377,
     "end_time": "2023-12-01T19:41:45.551878",
     "exception": false,
     "start_time": "2023-12-01T19:41:45.532501",
     "status": "completed"
    },
    "tags": []
   },
   "source": [
    "**Random Forest**"
   ]
  },
  {
   "cell_type": "code",
   "execution_count": 22,
   "id": "d3675bb2",
   "metadata": {
    "papermill": {
     "duration": 0.273147,
     "end_time": "2023-12-01T19:41:45.842624",
     "exception": false,
     "start_time": "2023-12-01T19:41:45.569477",
     "status": "completed"
    },
    "tags": []
   },
   "outputs": [
    {
     "name": "stdout",
     "output_type": "stream",
     "text": [
      "With normalization:\n",
      "Random Forest Train Accuracy =  100.0 %\n",
      "Random Forest Test Accuracy =  88.52 %\n",
      "\n",
      "              precision    recall  f1-score   support\n",
      "\n",
      "           0     0.8667    0.8966    0.8814        29\n",
      "           1     0.9032    0.8750    0.8889        32\n",
      "\n",
      "    accuracy                         0.8852        61\n",
      "   macro avg     0.8849    0.8858    0.8851        61\n",
      "weighted avg     0.8858    0.8852    0.8853        61\n",
      "\n"
     ]
    }
   ],
   "source": [
    "RF = RandomForestClassifier()\n",
    "RF.fit(X_train_scaled,y_train)\n",
    "\n",
    "y_prediction = RF.predict(X_test_scaled)\n",
    "tree_train_acc = round(accuracy_score(y_train,RF.predict(X_train_scaled))*100,2)\n",
    "tree_test_acc = round(accuracy_score(y_test,y_prediction)*100,2)\n",
    "\n",
    "print(\"With normalization:\")\n",
    "print('Random Forest Train Accuracy = ' , tree_train_acc,'%')\n",
    "print('Random Forest Test Accuracy = ' , tree_test_acc,'%')\n",
    "print()\n",
    "print(classification_report(y_test,RF.predict(X_test_scaled), digits= 4))"
   ]
  },
  {
   "cell_type": "code",
   "execution_count": 23,
   "id": "d380b032",
   "metadata": {
    "papermill": {
     "duration": 0.058544,
     "end_time": "2023-12-01T19:41:45.919016",
     "exception": false,
     "start_time": "2023-12-01T19:41:45.860472",
     "status": "completed"
    },
    "tags": []
   },
   "outputs": [
    {
     "name": "stdout",
     "output_type": "stream",
     "text": [
      "With standardization:\n",
      "Random Forest Train Accuracy =  100.0 %\n",
      "Random Forest Test Accuracy =  88.52 %\n",
      "\n",
      "              precision    recall  f1-score   support\n",
      "\n",
      "           0     0.8667    0.8966    0.8814        29\n",
      "           1     0.9032    0.8750    0.8889        32\n",
      "\n",
      "    accuracy                         0.8852        61\n",
      "   macro avg     0.8849    0.8858    0.8851        61\n",
      "weighted avg     0.8858    0.8852    0.8853        61\n",
      "\n"
     ]
    }
   ],
   "source": [
    "RF2 = RandomForestClassifier()\n",
    "RF2.fit(X_train_scaled2,y_train)\n",
    "\n",
    "y_prediction2 = RF2.predict(X_test_scaled2)\n",
    "tree_train_acc2 = round(accuracy_score(y_train,RF2.predict(X_train_scaled2))*100,2)\n",
    "tree_test_acc2 = round(accuracy_score(y_test,y_prediction2)*100,2)\n",
    "\n",
    "print(\"With standardization:\")\n",
    "print('Random Forest Train Accuracy = ' , tree_train_acc2,'%')\n",
    "print('Random Forest Test Accuracy = ' , tree_test_acc2,'%')\n",
    "print()\n",
    "print(classification_report(y_test,RF2.predict(X_test_scaled2), digits= 4))"
   ]
  },
  {
   "cell_type": "markdown",
   "id": "241ae0d1",
   "metadata": {
    "papermill": {
     "duration": 0.017956,
     "end_time": "2023-12-01T19:41:46.025688",
     "exception": false,
     "start_time": "2023-12-01T19:41:46.007732",
     "status": "completed"
    },
    "tags": []
   },
   "source": [
    "**Logistic Regression**"
   ]
  },
  {
   "cell_type": "code",
   "execution_count": 24,
   "id": "edc42c54",
   "metadata": {
    "papermill": {
     "duration": 0.063125,
     "end_time": "2023-12-01T19:41:46.107618",
     "exception": false,
     "start_time": "2023-12-01T19:41:46.044493",
     "status": "completed"
    },
    "tags": []
   },
   "outputs": [
    {
     "name": "stdout",
     "output_type": "stream",
     "text": [
      "With normalization:\n",
      "Logistic Regression Train Accuracy =  85.48 %\n",
      "Logistic Regression Test Accuracy =  83.61 %\n",
      "\n",
      "              precision    recall  f1-score   support\n",
      "\n",
      "           0     0.8276    0.8276    0.8276        29\n",
      "           1     0.8438    0.8438    0.8438        32\n",
      "\n",
      "    accuracy                         0.8361        61\n",
      "   macro avg     0.8357    0.8357    0.8357        61\n",
      "weighted avg     0.8361    0.8361    0.8361        61\n",
      "\n"
     ]
    }
   ],
   "source": [
    "LR = LogisticRegression()\n",
    "LR.fit(X_train_scaled,y_train)\n",
    "\n",
    "y_prediction = LR.predict(X_test_scaled)\n",
    "tree_train_acc = round(accuracy_score(y_train,LR.predict(X_train_scaled))*100,2)\n",
    "tree_test_acc = round(accuracy_score(y_test,y_prediction)*100,2)\n",
    "\n",
    "print(\"With normalization:\")\n",
    "print('Logistic Regression Train Accuracy = ' , tree_train_acc,'%')\n",
    "print('Logistic Regression Test Accuracy = ' , tree_test_acc,'%')\n",
    "print()\n",
    "print(classification_report(y_test,LR.predict(X_test_scaled), digits= 4))"
   ]
  },
  {
   "cell_type": "code",
   "execution_count": 25,
   "id": "379df9af",
   "metadata": {
    "papermill": {
     "duration": 0.039321,
     "end_time": "2023-12-01T19:41:46.165244",
     "exception": false,
     "start_time": "2023-12-01T19:41:46.125923",
     "status": "completed"
    },
    "tags": []
   },
   "outputs": [
    {
     "name": "stdout",
     "output_type": "stream",
     "text": [
      "With standardization:\n",
      "Logistic Regression Train Accuracy =  85.89 %\n",
      "Logistic Regression Test Accuracy =  83.61 %\n",
      "\n",
      "              precision    recall  f1-score   support\n",
      "\n",
      "           0     0.8065    0.8621    0.8333        29\n",
      "           1     0.8667    0.8125    0.8387        32\n",
      "\n",
      "    accuracy                         0.8361        61\n",
      "   macro avg     0.8366    0.8373    0.8360        61\n",
      "weighted avg     0.8380    0.8361    0.8362        61\n",
      "\n"
     ]
    }
   ],
   "source": [
    "LR2 = LogisticRegression()\n",
    "LR2.fit(X_train_scaled2,y_train)\n",
    "\n",
    "y_prediction2 = LR2.predict(X_test_scaled2)\n",
    "tree_train_acc2 = round(accuracy_score(y_train,LR2.predict(X_train_scaled2))*100,2)\n",
    "tree_test_acc2 = round(accuracy_score(y_test,y_prediction2)*100,2)\n",
    "\n",
    "print(\"With standardization:\")\n",
    "print('Logistic Regression Train Accuracy = ' , tree_train_acc2,'%')\n",
    "print('Logistic Regression Test Accuracy = ' , tree_test_acc2,'%')\n",
    "print()\n",
    "print(classification_report(y_test,LR2.predict(X_test_scaled2), digits= 4))"
   ]
  },
  {
   "cell_type": "markdown",
   "id": "a45c8fbc",
   "metadata": {},
   "source": [
    "**Neural Network**"
   ]
  },
  {
   "cell_type": "code",
   "execution_count": 26,
   "id": "449e36cd",
   "metadata": {},
   "outputs": [
    {
     "name": "stdout",
     "output_type": "stream",
     "text": [
      "Epoch 1/32\n",
      "16/16 [==============================] - 1s 1ms/step - loss: 0.6942 - accuracy: 0.5394\n",
      "Epoch 2/32\n",
      "16/16 [==============================] - 0s 1ms/step - loss: 0.6935 - accuracy: 0.5477\n",
      "Epoch 3/32\n",
      "16/16 [==============================] - 0s 1ms/step - loss: 0.6929 - accuracy: 0.5477\n",
      "Epoch 4/32\n",
      "16/16 [==============================] - 0s 1ms/step - loss: 0.6925 - accuracy: 0.5477\n",
      "Epoch 5/32\n",
      "16/16 [==============================] - 0s 1ms/step - loss: 0.6920 - accuracy: 0.5477\n",
      "Epoch 6/32\n",
      "16/16 [==============================] - 0s 1ms/step - loss: 0.6913 - accuracy: 0.5477\n",
      "Epoch 7/32\n",
      "16/16 [==============================] - 0s 1ms/step - loss: 0.6904 - accuracy: 0.5477\n",
      "Epoch 8/32\n",
      "16/16 [==============================] - 0s 939us/step - loss: 0.6894 - accuracy: 0.5477\n",
      "Epoch 9/32\n",
      "16/16 [==============================] - 0s 937us/step - loss: 0.6882 - accuracy: 0.5477\n",
      "Epoch 10/32\n",
      "16/16 [==============================] - 0s 1ms/step - loss: 0.6860 - accuracy: 0.5477\n",
      "Epoch 11/32\n",
      "16/16 [==============================] - 0s 1ms/step - loss: 0.6837 - accuracy: 0.5477\n",
      "Epoch 12/32\n",
      "16/16 [==============================] - 0s 970us/step - loss: 0.6800 - accuracy: 0.5477\n",
      "Epoch 13/32\n",
      "16/16 [==============================] - 0s 903us/step - loss: 0.6753 - accuracy: 0.5477\n",
      "Epoch 14/32\n",
      "16/16 [==============================] - 0s 1ms/step - loss: 0.6713 - accuracy: 0.5477\n",
      "Epoch 15/32\n",
      "16/16 [==============================] - 0s 1ms/step - loss: 0.6662 - accuracy: 0.5477\n",
      "Epoch 16/32\n",
      "16/16 [==============================] - 0s 902us/step - loss: 0.6597 - accuracy: 0.5477\n",
      "Epoch 17/32\n",
      "16/16 [==============================] - 0s 970us/step - loss: 0.6516 - accuracy: 0.5477\n",
      "Epoch 18/32\n",
      "16/16 [==============================] - 0s 1ms/step - loss: 0.6408 - accuracy: 0.5477\n",
      "Epoch 19/32\n",
      "16/16 [==============================] - 0s 971us/step - loss: 0.6298 - accuracy: 0.5477\n",
      "Epoch 20/32\n",
      "16/16 [==============================] - 0s 1ms/step - loss: 0.6207 - accuracy: 0.5477\n",
      "Epoch 21/32\n",
      "16/16 [==============================] - 0s 1ms/step - loss: 0.6138 - accuracy: 0.5477\n",
      "Epoch 22/32\n",
      "16/16 [==============================] - 0s 1ms/step - loss: 0.6054 - accuracy: 0.5477\n",
      "Epoch 23/32\n",
      "16/16 [==============================] - 0s 971us/step - loss: 0.5971 - accuracy: 0.5477\n",
      "Epoch 24/32\n",
      "16/16 [==============================] - 0s 1ms/step - loss: 0.5894 - accuracy: 0.5477\n",
      "Epoch 25/32\n",
      "16/16 [==============================] - 0s 1ms/step - loss: 0.5810 - accuracy: 0.5477\n",
      "Epoch 26/32\n",
      "16/16 [==============================] - 0s 969us/step - loss: 0.5729 - accuracy: 0.5519\n",
      "Epoch 27/32\n",
      "16/16 [==============================] - 0s 938us/step - loss: 0.5670 - accuracy: 0.7510\n",
      "Epoch 28/32\n",
      "16/16 [==============================] - 0s 1ms/step - loss: 0.5601 - accuracy: 0.7552\n",
      "Epoch 29/32\n",
      "16/16 [==============================] - 0s 1ms/step - loss: 0.5555 - accuracy: 0.7593\n",
      "Epoch 30/32\n",
      "16/16 [==============================] - 0s 968us/step - loss: 0.5507 - accuracy: 0.7718\n",
      "Epoch 31/32\n",
      "16/16 [==============================] - 0s 969us/step - loss: 0.5470 - accuracy: 0.7759\n",
      "Epoch 32/32\n",
      "16/16 [==============================] - 0s 1ms/step - loss: 0.5416 - accuracy: 0.7842\n"
     ]
    },
    {
     "data": {
      "text/plain": [
       "<keras.src.callbacks.History at 0x1f2b1933990>"
      ]
     },
     "execution_count": 26,
     "metadata": {},
     "output_type": "execute_result"
    }
   ],
   "source": [
    "ann = tf.keras.models.Sequential([\n",
    "    tf.keras.layers.Dense(units=8, activation='relu'),   # Input layer\n",
    "    tf.keras.layers.Dense(units=3, activation='relu'),   # Hidden layer\n",
    "    tf.keras.layers.Dense(units=3, activation='relu'),   # Hidden layer\n",
    "    tf.keras.layers.Dense(units=1, activation='sigmoid') # Output layer\n",
    "])\n",
    "ann.compile(optimizer = 'adam', loss = 'binary_crossentropy', metrics = ['accuracy'])\n",
    "ann.fit(X_train_scaled, y_train, batch_size = 16, epochs = 32)"
   ]
  },
  {
   "cell_type": "code",
   "execution_count": 27,
   "id": "ee8a132b",
   "metadata": {},
   "outputs": [
    {
     "name": "stdout",
     "output_type": "stream",
     "text": [
      "2/2 [==============================] - 0s 2ms/step\n",
      "With normalization:\n",
      "Neural Network Test Accuracy =  85.25 %\n",
      "\n",
      "Confusion matrix:\n",
      "[[22  7]\n",
      " [ 2 30]]\n",
      "              precision    recall  f1-score   support\n",
      "\n",
      "           0     0.9167    0.7586    0.8302        29\n",
      "           1     0.8108    0.9375    0.8696        32\n",
      "\n",
      "    accuracy                         0.8525        61\n",
      "   macro avg     0.8637    0.8481    0.8499        61\n",
      "weighted avg     0.8611    0.8525    0.8508        61\n",
      "\n"
     ]
    }
   ],
   "source": [
    "y_pre = ann.predict(X_test_scaled)\n",
    "y_pred = (y_pre > 0.5)\n",
    "cm = confusion_matrix(y_test, y_pred)\n",
    "\n",
    "acc = round(accuracy_score(y_test,y_pred)*100,2)\n",
    "print('With normalization:')\n",
    "print('Neural Network Test Accuracy = ' , acc,'%')\n",
    "print()\n",
    "print('Confusion matrix:')\n",
    "print(cm)\n",
    "print(classification_report(y_test, y_pred, digits= 4))"
   ]
  },
  {
   "cell_type": "code",
   "execution_count": 28,
   "id": "baab9af4",
   "metadata": {},
   "outputs": [
    {
     "name": "stdout",
     "output_type": "stream",
     "text": [
      "Epoch 1/32\n",
      "16/16 [==============================] - 1s 1ms/step - loss: 0.6950 - accuracy: 0.4896\n",
      "Epoch 2/32\n",
      "16/16 [==============================] - 0s 1ms/step - loss: 0.6869 - accuracy: 0.5353\n",
      "Epoch 3/32\n",
      "16/16 [==============================] - 0s 1ms/step - loss: 0.6791 - accuracy: 0.5643\n",
      "Epoch 4/32\n",
      "16/16 [==============================] - 0s 1ms/step - loss: 0.6716 - accuracy: 0.5560\n",
      "Epoch 5/32\n",
      "16/16 [==============================] - 0s 903us/step - loss: 0.6634 - accuracy: 0.5477\n",
      "Epoch 6/32\n",
      "16/16 [==============================] - 0s 1ms/step - loss: 0.6548 - accuracy: 0.5477\n",
      "Epoch 7/32\n",
      "16/16 [==============================] - 0s 1ms/step - loss: 0.6455 - accuracy: 0.5477\n",
      "Epoch 8/32\n",
      "16/16 [==============================] - 0s 936us/step - loss: 0.6357 - accuracy: 0.5477\n",
      "Epoch 9/32\n",
      "16/16 [==============================] - 0s 1ms/step - loss: 0.6264 - accuracy: 0.6473\n",
      "Epoch 10/32\n",
      "16/16 [==============================] - 0s 1ms/step - loss: 0.6162 - accuracy: 0.7178\n",
      "Epoch 11/32\n",
      "16/16 [==============================] - 0s 1ms/step - loss: 0.6053 - accuracy: 0.7303\n",
      "Epoch 12/32\n",
      "16/16 [==============================] - 0s 973us/step - loss: 0.5950 - accuracy: 0.7344\n",
      "Epoch 13/32\n",
      "16/16 [==============================] - 0s 973us/step - loss: 0.5860 - accuracy: 0.7427\n",
      "Epoch 14/32\n",
      "16/16 [==============================] - 0s 1ms/step - loss: 0.5766 - accuracy: 0.7427\n",
      "Epoch 15/32\n",
      "16/16 [==============================] - 0s 970us/step - loss: 0.5672 - accuracy: 0.7386\n",
      "Epoch 16/32\n",
      "16/16 [==============================] - 0s 970us/step - loss: 0.5583 - accuracy: 0.7593\n",
      "Epoch 17/32\n",
      "16/16 [==============================] - 0s 1ms/step - loss: 0.5494 - accuracy: 0.7759\n",
      "Epoch 18/32\n",
      "16/16 [==============================] - 0s 1ms/step - loss: 0.5428 - accuracy: 0.7801\n",
      "Epoch 19/32\n",
      "16/16 [==============================] - 0s 1ms/step - loss: 0.5364 - accuracy: 0.7884\n",
      "Epoch 20/32\n",
      "16/16 [==============================] - 0s 968us/step - loss: 0.5314 - accuracy: 0.7884\n",
      "Epoch 21/32\n",
      "16/16 [==============================] - 0s 1ms/step - loss: 0.5270 - accuracy: 0.7925\n",
      "Epoch 22/32\n",
      "16/16 [==============================] - 0s 1ms/step - loss: 0.5223 - accuracy: 0.7925\n",
      "Epoch 23/32\n",
      "16/16 [==============================] - 0s 971us/step - loss: 0.5177 - accuracy: 0.7884\n",
      "Epoch 24/32\n",
      "16/16 [==============================] - 0s 1ms/step - loss: 0.5130 - accuracy: 0.7884\n",
      "Epoch 25/32\n",
      "16/16 [==============================] - 0s 970us/step - loss: 0.5091 - accuracy: 0.7925\n",
      "Epoch 26/32\n",
      "16/16 [==============================] - 0s 971us/step - loss: 0.5048 - accuracy: 0.7925\n",
      "Epoch 27/32\n",
      "16/16 [==============================] - 0s 970us/step - loss: 0.5010 - accuracy: 0.7967\n",
      "Epoch 28/32\n",
      "16/16 [==============================] - 0s 1ms/step - loss: 0.4977 - accuracy: 0.8091\n",
      "Epoch 29/32\n",
      "16/16 [==============================] - 0s 1ms/step - loss: 0.4935 - accuracy: 0.8008\n",
      "Epoch 30/32\n",
      "16/16 [==============================] - 0s 937us/step - loss: 0.4893 - accuracy: 0.8091\n",
      "Epoch 31/32\n",
      "16/16 [==============================] - 0s 969us/step - loss: 0.4863 - accuracy: 0.8216\n",
      "Epoch 32/32\n",
      "16/16 [==============================] - 0s 1ms/step - loss: 0.4829 - accuracy: 0.8174\n"
     ]
    },
    {
     "data": {
      "text/plain": [
       "<keras.src.callbacks.History at 0x1f2b14fc590>"
      ]
     },
     "execution_count": 28,
     "metadata": {},
     "output_type": "execute_result"
    }
   ],
   "source": [
    "ann2 = tf.keras.models.Sequential([\n",
    "    tf.keras.layers.Dense(units=8, activation='relu'),   # Input layer\n",
    "    tf.keras.layers.Dense(units=3, activation='relu'),   # Hidden layer\n",
    "    tf.keras.layers.Dense(units=3, activation='relu'),   # Hidden layer\n",
    "    tf.keras.layers.Dense(units=1, activation='sigmoid') # Output layer\n",
    "])\n",
    "ann2.compile(optimizer = 'adam', loss = 'binary_crossentropy', metrics = ['accuracy'])\n",
    "ann2.fit(X_train_scaled2, y_train, batch_size = 16, epochs = 32)"
   ]
  },
  {
   "cell_type": "code",
   "execution_count": 29,
   "id": "e87e2477",
   "metadata": {},
   "outputs": [
    {
     "name": "stdout",
     "output_type": "stream",
     "text": [
      "2/2 [==============================] - 0s 994us/step\n",
      "With standardization:\n",
      "Neural Network Test Accuracy =  86.89 %\n",
      "\n",
      "Confusion matrix:\n",
      "[[26  3]\n",
      " [ 5 27]]\n",
      "              precision    recall  f1-score   support\n",
      "\n",
      "           0     0.8387    0.8966    0.8667        29\n",
      "           1     0.9000    0.8438    0.8710        32\n",
      "\n",
      "    accuracy                         0.8689        61\n",
      "   macro avg     0.8694    0.8702    0.8688        61\n",
      "weighted avg     0.8709    0.8689    0.8689        61\n",
      "\n"
     ]
    }
   ],
   "source": [
    "y_pre = ann2.predict(X_test_scaled2)\n",
    "y_pred = (y_pre > 0.5)\n",
    "cm = confusion_matrix(y_test, y_pred)\n",
    "\n",
    "acc2 = round(accuracy_score(y_test,y_pred)*100,2)\n",
    "print('With standardization:')\n",
    "print('Neural Network Test Accuracy = ' , acc2,'%')\n",
    "print()\n",
    "print('Confusion matrix:')\n",
    "print(cm)\n",
    "print(classification_report(y_test, y_pred, digits= 4))"
   ]
  }
 ],
 "metadata": {
  "kaggle": {
   "accelerator": "none",
   "dataSources": [
    {
     "datasetId": 1226038,
     "sourceId": 2047221,
     "sourceType": "datasetVersion"
    }
   ],
   "dockerImageVersionId": 30587,
   "isGpuEnabled": false,
   "isInternetEnabled": true,
   "language": "python",
   "sourceType": "notebook"
  },
  "kernelspec": {
   "display_name": "Python 3 (ipykernel)",
   "language": "python",
   "name": "python3"
  },
  "language_info": {
   "codemirror_mode": {
    "name": "ipython",
    "version": 3
   },
   "file_extension": ".py",
   "mimetype": "text/x-python",
   "name": "python",
   "nbconvert_exporter": "python",
   "pygments_lexer": "ipython3",
   "version": "3.11.4"
  },
  "papermill": {
   "default_parameters": {},
   "duration": 15.875372,
   "end_time": "2023-12-01T19:41:47.113724",
   "environment_variables": {},
   "exception": null,
   "input_path": "__notebook__.ipynb",
   "output_path": "__notebook__.ipynb",
   "parameters": {},
   "start_time": "2023-12-01T19:41:31.238352",
   "version": "2.4.0"
  }
 },
 "nbformat": 4,
 "nbformat_minor": 5
}
